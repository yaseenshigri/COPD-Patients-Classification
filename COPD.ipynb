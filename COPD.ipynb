{
 "cells": [
  {
   "cell_type": "code",
   "execution_count": 1,
   "id": "fa5e3cd7",
   "metadata": {},
   "outputs": [
    {
     "name": "stdout",
     "output_type": "stream",
     "text": [
      "2900\n",
      "60\n"
     ]
    }
   ],
   "source": [
    "from sklearn.model_selection import train_test_split\n",
    "from sklearn.preprocessing import StandardScaler, MinMaxScaler  #library to normalize\n",
    "from sklearn.metrics import accuracy_score, f1_score, precision_score, recall_score, roc_auc_score, auc, precision_recall_curve, roc_curve\n",
    "from sklearn.linear_model import LogisticRegression   \n",
    "from sklearn.svm import SVC\n",
    "from sklearn.pipeline import Pipeline\n",
    "import pandas as pd                     \n",
    "import numpy as np                      \n",
    "import seaborn as sns                   \n",
    "from matplotlib import pyplot as plt\n",
    "import numpy as np\n",
    "import pandas as pd \n",
    "import matplotlib.pyplot as plt\n",
    "df=pd.read_csv('D:/Desktop/machine learning/COPD dataset.csv')\n",
    "nRow, nCol = df.shape                \n",
    "print(nRow)\n",
    "print(nCol)"
   ]
  },
  {
   "cell_type": "code",
   "execution_count": 2,
   "id": "8d76dff2",
   "metadata": {
    "scrolled": true
   },
   "outputs": [
    {
     "data": {
      "text/html": [
       "<div>\n",
       "<style scoped>\n",
       "    .dataframe tbody tr th:only-of-type {\n",
       "        vertical-align: middle;\n",
       "    }\n",
       "\n",
       "    .dataframe tbody tr th {\n",
       "        vertical-align: top;\n",
       "    }\n",
       "\n",
       "    .dataframe thead th {\n",
       "        text-align: right;\n",
       "    }\n",
       "</style>\n",
       "<table border=\"1\" class=\"dataframe\">\n",
       "  <thead>\n",
       "    <tr style=\"text-align: right;\">\n",
       "      <th></th>\n",
       "      <th>Sex</th>\n",
       "      <th>SBP</th>\n",
       "      <th>DBP</th>\n",
       "      <th>Pulse</th>\n",
       "      <th>Tx_y</th>\n",
       "      <th>PHA</th>\n",
       "      <th>AirPollution</th>\n",
       "      <th>DS</th>\n",
       "      <th>SPY</th>\n",
       "      <th>F_DBT</th>\n",
       "      <th>...</th>\n",
       "      <th>BDR2_FEF_Base</th>\n",
       "      <th>DLCO</th>\n",
       "      <th>DC_DLCO_pcForecast</th>\n",
       "      <th>DC_DLVA_Measure</th>\n",
       "      <th>DC_DLVA_pcForecast</th>\n",
       "      <th>LABA</th>\n",
       "      <th>LAMA</th>\n",
       "      <th>ICS_LABA</th>\n",
       "      <th>Methylxanthine_YN</th>\n",
       "      <th>target_value</th>\n",
       "    </tr>\n",
       "  </thead>\n",
       "  <tbody>\n",
       "    <tr>\n",
       "      <th>0</th>\n",
       "      <td>1.0</td>\n",
       "      <td>120.0</td>\n",
       "      <td>70.0</td>\n",
       "      <td>78.0</td>\n",
       "      <td>16.0</td>\n",
       "      <td>1.0</td>\n",
       "      <td>0.0</td>\n",
       "      <td>20.0</td>\n",
       "      <td>4.0</td>\n",
       "      <td>0.0</td>\n",
       "      <td>...</td>\n",
       "      <td>NaN</td>\n",
       "      <td>NaN</td>\n",
       "      <td>NaN</td>\n",
       "      <td>NaN</td>\n",
       "      <td>NaN</td>\n",
       "      <td>NaN</td>\n",
       "      <td>NaN</td>\n",
       "      <td>NaN</td>\n",
       "      <td>NaN</td>\n",
       "      <td>0</td>\n",
       "    </tr>\n",
       "    <tr>\n",
       "      <th>1</th>\n",
       "      <td>2.0</td>\n",
       "      <td>103.0</td>\n",
       "      <td>70.0</td>\n",
       "      <td>78.0</td>\n",
       "      <td>1.0</td>\n",
       "      <td>0.0</td>\n",
       "      <td>0.0</td>\n",
       "      <td>51.0</td>\n",
       "      <td>51.0</td>\n",
       "      <td>1.0</td>\n",
       "      <td>...</td>\n",
       "      <td>14.0</td>\n",
       "      <td>14.2</td>\n",
       "      <td>80.0</td>\n",
       "      <td>4.01</td>\n",
       "      <td>75.0</td>\n",
       "      <td>0.0</td>\n",
       "      <td>0.0</td>\n",
       "      <td>1.0</td>\n",
       "      <td>0.0</td>\n",
       "      <td>0</td>\n",
       "    </tr>\n",
       "    <tr>\n",
       "      <th>2</th>\n",
       "      <td>1.0</td>\n",
       "      <td>NaN</td>\n",
       "      <td>NaN</td>\n",
       "      <td>NaN</td>\n",
       "      <td>1.0</td>\n",
       "      <td>0.0</td>\n",
       "      <td>0.0</td>\n",
       "      <td>NaN</td>\n",
       "      <td>NaN</td>\n",
       "      <td>0.0</td>\n",
       "      <td>...</td>\n",
       "      <td>20.0</td>\n",
       "      <td>NaN</td>\n",
       "      <td>NaN</td>\n",
       "      <td>NaN</td>\n",
       "      <td>NaN</td>\n",
       "      <td>0.0</td>\n",
       "      <td>0.0</td>\n",
       "      <td>1.0</td>\n",
       "      <td>0.0</td>\n",
       "      <td>0</td>\n",
       "    </tr>\n",
       "    <tr>\n",
       "      <th>3</th>\n",
       "      <td>2.0</td>\n",
       "      <td>NaN</td>\n",
       "      <td>NaN</td>\n",
       "      <td>NaN</td>\n",
       "      <td>4.0</td>\n",
       "      <td>0.0</td>\n",
       "      <td>0.0</td>\n",
       "      <td>NaN</td>\n",
       "      <td>NaN</td>\n",
       "      <td>0.0</td>\n",
       "      <td>...</td>\n",
       "      <td>NaN</td>\n",
       "      <td>NaN</td>\n",
       "      <td>NaN</td>\n",
       "      <td>NaN</td>\n",
       "      <td>NaN</td>\n",
       "      <td>0.0</td>\n",
       "      <td>0.0</td>\n",
       "      <td>1.0</td>\n",
       "      <td>0.0</td>\n",
       "      <td>0</td>\n",
       "    </tr>\n",
       "    <tr>\n",
       "      <th>4</th>\n",
       "      <td>1.0</td>\n",
       "      <td>NaN</td>\n",
       "      <td>NaN</td>\n",
       "      <td>NaN</td>\n",
       "      <td>1.0</td>\n",
       "      <td>0.0</td>\n",
       "      <td>0.0</td>\n",
       "      <td>45.0</td>\n",
       "      <td>45.0</td>\n",
       "      <td>0.0</td>\n",
       "      <td>...</td>\n",
       "      <td>17.0</td>\n",
       "      <td>NaN</td>\n",
       "      <td>NaN</td>\n",
       "      <td>NaN</td>\n",
       "      <td>NaN</td>\n",
       "      <td>1.0</td>\n",
       "      <td>0.0</td>\n",
       "      <td>0.0</td>\n",
       "      <td>0.0</td>\n",
       "      <td>0</td>\n",
       "    </tr>\n",
       "    <tr>\n",
       "      <th>...</th>\n",
       "      <td>...</td>\n",
       "      <td>...</td>\n",
       "      <td>...</td>\n",
       "      <td>...</td>\n",
       "      <td>...</td>\n",
       "      <td>...</td>\n",
       "      <td>...</td>\n",
       "      <td>...</td>\n",
       "      <td>...</td>\n",
       "      <td>...</td>\n",
       "      <td>...</td>\n",
       "      <td>...</td>\n",
       "      <td>...</td>\n",
       "      <td>...</td>\n",
       "      <td>...</td>\n",
       "      <td>...</td>\n",
       "      <td>...</td>\n",
       "      <td>...</td>\n",
       "      <td>...</td>\n",
       "      <td>...</td>\n",
       "      <td>...</td>\n",
       "    </tr>\n",
       "    <tr>\n",
       "      <th>2895</th>\n",
       "      <td>1.0</td>\n",
       "      <td>110.0</td>\n",
       "      <td>70.0</td>\n",
       "      <td>85.0</td>\n",
       "      <td>8.0</td>\n",
       "      <td>0.0</td>\n",
       "      <td>0.0</td>\n",
       "      <td>23.0</td>\n",
       "      <td>23.0</td>\n",
       "      <td>0.0</td>\n",
       "      <td>...</td>\n",
       "      <td>5.0</td>\n",
       "      <td>5.0</td>\n",
       "      <td>31.0</td>\n",
       "      <td>2.95</td>\n",
       "      <td>82.0</td>\n",
       "      <td>0.0</td>\n",
       "      <td>0.0</td>\n",
       "      <td>1.0</td>\n",
       "      <td>NaN</td>\n",
       "      <td>1</td>\n",
       "    </tr>\n",
       "    <tr>\n",
       "      <th>2896</th>\n",
       "      <td>1.0</td>\n",
       "      <td>136.0</td>\n",
       "      <td>71.0</td>\n",
       "      <td>82.0</td>\n",
       "      <td>NaN</td>\n",
       "      <td>0.0</td>\n",
       "      <td>0.0</td>\n",
       "      <td>27.0</td>\n",
       "      <td>41.0</td>\n",
       "      <td>1.0</td>\n",
       "      <td>...</td>\n",
       "      <td>49.0</td>\n",
       "      <td>NaN</td>\n",
       "      <td>NaN</td>\n",
       "      <td>NaN</td>\n",
       "      <td>NaN</td>\n",
       "      <td>0.0</td>\n",
       "      <td>1.0</td>\n",
       "      <td>1.0</td>\n",
       "      <td>1.0</td>\n",
       "      <td>1</td>\n",
       "    </tr>\n",
       "    <tr>\n",
       "      <th>2897</th>\n",
       "      <td>1.0</td>\n",
       "      <td>104.0</td>\n",
       "      <td>56.0</td>\n",
       "      <td>66.0</td>\n",
       "      <td>3.0</td>\n",
       "      <td>NaN</td>\n",
       "      <td>1.0</td>\n",
       "      <td>NaN</td>\n",
       "      <td>NaN</td>\n",
       "      <td>0.0</td>\n",
       "      <td>...</td>\n",
       "      <td>-17.0</td>\n",
       "      <td>11.2</td>\n",
       "      <td>64.0</td>\n",
       "      <td>2.75</td>\n",
       "      <td>80.0</td>\n",
       "      <td>0.0</td>\n",
       "      <td>1.0</td>\n",
       "      <td>0.0</td>\n",
       "      <td>0.0</td>\n",
       "      <td>1</td>\n",
       "    </tr>\n",
       "    <tr>\n",
       "      <th>2898</th>\n",
       "      <td>1.0</td>\n",
       "      <td>128.0</td>\n",
       "      <td>74.0</td>\n",
       "      <td>78.0</td>\n",
       "      <td>0.0</td>\n",
       "      <td>0.0</td>\n",
       "      <td>1.0</td>\n",
       "      <td>42.0</td>\n",
       "      <td>42.0</td>\n",
       "      <td>0.0</td>\n",
       "      <td>...</td>\n",
       "      <td>32.0</td>\n",
       "      <td>6.0</td>\n",
       "      <td>38.0</td>\n",
       "      <td>1.84</td>\n",
       "      <td>47.0</td>\n",
       "      <td>0.0</td>\n",
       "      <td>1.0</td>\n",
       "      <td>1.0</td>\n",
       "      <td>0.0</td>\n",
       "      <td>1</td>\n",
       "    </tr>\n",
       "    <tr>\n",
       "      <th>2899</th>\n",
       "      <td>1.0</td>\n",
       "      <td>110.0</td>\n",
       "      <td>70.0</td>\n",
       "      <td>120.0</td>\n",
       "      <td>22.0</td>\n",
       "      <td>1.0</td>\n",
       "      <td>1.0</td>\n",
       "      <td>42.0</td>\n",
       "      <td>21.0</td>\n",
       "      <td>0.0</td>\n",
       "      <td>...</td>\n",
       "      <td>-2.0</td>\n",
       "      <td>8.9</td>\n",
       "      <td>45.0</td>\n",
       "      <td>2.45</td>\n",
       "      <td>63.0</td>\n",
       "      <td>1.0</td>\n",
       "      <td>1.0</td>\n",
       "      <td>0.0</td>\n",
       "      <td>0.0</td>\n",
       "      <td>1</td>\n",
       "    </tr>\n",
       "  </tbody>\n",
       "</table>\n",
       "<p>2900 rows × 60 columns</p>\n",
       "</div>"
      ],
      "text/plain": [
       "      Sex    SBP   DBP  Pulse  Tx_y  PHA  AirPollution    DS   SPY  F_DBT  \\\n",
       "0     1.0  120.0  70.0   78.0  16.0  1.0           0.0  20.0   4.0    0.0   \n",
       "1     2.0  103.0  70.0   78.0   1.0  0.0           0.0  51.0  51.0    1.0   \n",
       "2     1.0    NaN   NaN    NaN   1.0  0.0           0.0   NaN   NaN    0.0   \n",
       "3     2.0    NaN   NaN    NaN   4.0  0.0           0.0   NaN   NaN    0.0   \n",
       "4     1.0    NaN   NaN    NaN   1.0  0.0           0.0  45.0  45.0    0.0   \n",
       "...   ...    ...   ...    ...   ...  ...           ...   ...   ...    ...   \n",
       "2895  1.0  110.0  70.0   85.0   8.0  0.0           0.0  23.0  23.0    0.0   \n",
       "2896  1.0  136.0  71.0   82.0   NaN  0.0           0.0  27.0  41.0    1.0   \n",
       "2897  1.0  104.0  56.0   66.0   3.0  NaN           1.0   NaN   NaN    0.0   \n",
       "2898  1.0  128.0  74.0   78.0   0.0  0.0           1.0  42.0  42.0    0.0   \n",
       "2899  1.0  110.0  70.0  120.0  22.0  1.0           1.0  42.0  21.0    0.0   \n",
       "\n",
       "      ...  BDR2_FEF_Base  DLCO  DC_DLCO_pcForecast  DC_DLVA_Measure  \\\n",
       "0     ...            NaN   NaN                 NaN              NaN   \n",
       "1     ...           14.0  14.2                80.0             4.01   \n",
       "2     ...           20.0   NaN                 NaN              NaN   \n",
       "3     ...            NaN   NaN                 NaN              NaN   \n",
       "4     ...           17.0   NaN                 NaN              NaN   \n",
       "...   ...            ...   ...                 ...              ...   \n",
       "2895  ...            5.0   5.0                31.0             2.95   \n",
       "2896  ...           49.0   NaN                 NaN              NaN   \n",
       "2897  ...          -17.0  11.2                64.0             2.75   \n",
       "2898  ...           32.0   6.0                38.0             1.84   \n",
       "2899  ...           -2.0   8.9                45.0             2.45   \n",
       "\n",
       "      DC_DLVA_pcForecast  LABA  LAMA  ICS_LABA  Methylxanthine_YN  \\\n",
       "0                    NaN   NaN   NaN       NaN                NaN   \n",
       "1                   75.0   0.0   0.0       1.0                0.0   \n",
       "2                    NaN   0.0   0.0       1.0                0.0   \n",
       "3                    NaN   0.0   0.0       1.0                0.0   \n",
       "4                    NaN   1.0   0.0       0.0                0.0   \n",
       "...                  ...   ...   ...       ...                ...   \n",
       "2895                82.0   0.0   0.0       1.0                NaN   \n",
       "2896                 NaN   0.0   1.0       1.0                1.0   \n",
       "2897                80.0   0.0   1.0       0.0                0.0   \n",
       "2898                47.0   0.0   1.0       1.0                0.0   \n",
       "2899                63.0   1.0   1.0       0.0                0.0   \n",
       "\n",
       "      target_value  \n",
       "0                0  \n",
       "1                0  \n",
       "2                0  \n",
       "3                0  \n",
       "4                0  \n",
       "...            ...  \n",
       "2895             1  \n",
       "2896             1  \n",
       "2897             1  \n",
       "2898             1  \n",
       "2899             1  \n",
       "\n",
       "[2900 rows x 60 columns]"
      ]
     },
     "execution_count": 2,
     "metadata": {},
     "output_type": "execute_result"
    }
   ],
   "source": [
    "df"
   ]
  },
  {
   "cell_type": "code",
   "execution_count": 3,
   "id": "20f67264",
   "metadata": {},
   "outputs": [
    {
     "data": {
      "text/plain": [
       "0    2327\n",
       "1     573\n",
       "Name: target_value, dtype: int64"
      ]
     },
     "execution_count": 3,
     "metadata": {},
     "output_type": "execute_result"
    }
   ],
   "source": [
    "df['target_value'].value_counts()"
   ]
  },
  {
   "cell_type": "code",
   "execution_count": 4,
   "id": "c1ef35f3",
   "metadata": {},
   "outputs": [
    {
     "data": {
      "text/plain": [
       "Text(0, 0.5, 'Frequency')"
      ]
     },
     "execution_count": 4,
     "metadata": {},
     "output_type": "execute_result"
    },
    {
     "data": {
      "image/png": "[encoded data removed]",
      "text/plain": [
       "<Figure size 432x288 with 1 Axes>"
      ]
     },
     "metadata": {
      "needs_background": "light"
     },
     "output_type": "display_data"
    }
   ],
   "source": [
    "pd.value_counts(df['target_value']).plot.bar()\n",
    "plt.title('Fraud class histogram')\n",
    "plt.xlabel('target_value')\n",
    "plt.ylabel('Frequency')\n",
    "# df['target_valuess'].value_counts()"
   ]
  },
  {
   "cell_type": "code",
   "execution_count": 5,
   "id": "967b1c59",
   "metadata": {},
   "outputs": [],
   "source": [
    "# df.isnull().sum()"
   ]
  },
  {
   "cell_type": "code",
   "execution_count": 6,
   "id": "e5dcdfd4",
   "metadata": {},
   "outputs": [],
   "source": [
    "X=df.drop('target_value',axis=1)\n",
    "y=df['target_value'] "
   ]
  },
  {
   "cell_type": "code",
   "execution_count": 7,
   "id": "9955456c",
   "metadata": {},
   "outputs": [
    {
     "name": "stdout",
     "output_type": "stream",
     "text": [
      "0       0\n",
      "1       0\n",
      "2       0\n",
      "3       0\n",
      "4       0\n",
      "       ..\n",
      "2895    1\n",
      "2896    1\n",
      "2897    1\n",
      "2898    1\n",
      "2899    1\n",
      "Name: target_value, Length: 2900, dtype: int64\n"
     ]
    }
   ],
   "source": [
    "print(y)"
   ]
  },
  {
   "cell_type": "markdown",
   "id": "bf28ec35",
   "metadata": {},
   "source": [
    "# Filled the missing values using means strategy"
   ]
  },
  {
   "cell_type": "code",
   "execution_count": 8,
   "id": "086b1e96",
   "metadata": {},
   "outputs": [],
   "source": [
    "from sklearn.impute import SimpleImputer                                                                                                                          \n",
    "imputer = SimpleImputer(missing_values = np.nan, strategy = 'mean')\n",
    "imputer = imputer.fit(X)\n",
    "X_1 = imputer.transform(X)"
   ]
  },
  {
   "cell_type": "code",
   "execution_count": 10,
   "id": "52743a5d",
   "metadata": {},
   "outputs": [],
   "source": [
    "# !pip install -U imbalanced-learn"
   ]
  },
  {
   "cell_type": "markdown",
   "id": "b6c616e1",
   "metadata": {},
   "source": [
    "### Balance the Data using SMOTE"
   ]
  },
  {
   "cell_type": "code",
   "execution_count": 11,
   "id": "d3ad4431",
   "metadata": {},
   "outputs": [],
   "source": [
    "from imblearn.over_sampling import SMOTE\n",
    "oversample = SMOTE()\n",
    "X_1, y = oversample.fit_resample(X_1, y)"
   ]
  },
  {
   "cell_type": "code",
   "execution_count": 12,
   "id": "c98cbb9e",
   "metadata": {},
   "outputs": [
    {
     "data": {
      "text/plain": [
       "0    2327\n",
       "1    2327\n",
       "Name: target_value, dtype: int64"
      ]
     },
     "execution_count": 12,
     "metadata": {},
     "output_type": "execute_result"
    }
   ],
   "source": [
    "y.value_counts()"
   ]
  },
  {
   "cell_type": "code",
   "execution_count": 13,
   "id": "811e1518",
   "metadata": {},
   "outputs": [
    {
     "data": {
      "text/plain": [
       "(4654, 59)"
      ]
     },
     "execution_count": 13,
     "metadata": {},
     "output_type": "execute_result"
    }
   ],
   "source": [
    "X_1.shape"
   ]
  },
  {
   "cell_type": "code",
   "execution_count": 14,
   "id": "bb8620ea",
   "metadata": {},
   "outputs": [
    {
     "data": {
      "text/plain": [
       "Text(0, 0.5, 'Frequency')"
      ]
     },
     "execution_count": 14,
     "metadata": {},
     "output_type": "execute_result"
    },
    {
     "data": {
      "image/png": "[encoded data removed]",
      "text/plain": [
       "<Figure size 432x288 with 1 Axes>"
      ]
     },
     "metadata": {
      "needs_background": "light"
     },
     "output_type": "display_data"
    }
   ],
   "source": [
    "y.value_counts().plot.bar()\n",
    "plt.title('Target_value histogram')\n",
    "plt.xlabel('y')\n",
    "plt.ylabel('Frequency')"
   ]
  },
  {
   "cell_type": "markdown",
   "id": "357377f8",
   "metadata": {},
   "source": [
    "# Feature selection "
   ]
  },
  {
   "cell_type": "code",
   "execution_count": 15,
   "id": "16903156",
   "metadata": {},
   "outputs": [],
   "source": [
    "# from sklearn.ensemble import RandomForestClassifier\n",
    "# model =RandomForestClassifier(max_depth=1) \n",
    "# from boruta import BorutaPy\n",
    "# feat_selector = BorutaPy(model, n_estimators='auto', verbose=1, random_state=101)\n",
    "# feat_selector.fit(X_1,y)\n",
    "# print(feat_selector.support_) \n",
    "# print(feat_selector.ranking_) \n",
    "# X_filtered1 = feat_selector.transform(X_1)"
   ]
  },
  {
   "cell_type": "code",
   "execution_count": 17,
   "id": "7c9f6792",
   "metadata": {},
   "outputs": [],
   "source": [
    "# X_filtered1 .shape"
   ]
  },
  {
   "cell_type": "markdown",
   "id": "aa5eea96",
   "metadata": {},
   "source": [
    "# Normalized the whole selected features using MinMaxScaler"
   ]
  },
  {
   "cell_type": "code",
   "execution_count": 18,
   "id": "97f46527",
   "metadata": {},
   "outputs": [],
   "source": [
    "# Final_selected=X_filtered1\n",
    "from sklearn.preprocessing import MinMaxScaler\n",
    "scaler = MinMaxScaler(feature_range=(0, 1))                        \n",
    "X= scaler.fit_transform(X_1)"
   ]
  },
  {
   "cell_type": "code",
   "execution_count": 20,
   "id": "e2013de0",
   "metadata": {},
   "outputs": [
    {
     "data": {
      "text/plain": [
       "(4654, 59)"
      ]
     },
     "execution_count": 20,
     "metadata": {},
     "output_type": "execute_result"
    }
   ],
   "source": [
    "X.shape"
   ]
  },
  {
   "cell_type": "markdown",
   "id": "dc540093",
   "metadata": {},
   "source": [
    "#  Divided the whole dataset into training and testing by keeping test size 20%"
   ]
  },
  {
   "cell_type": "code",
   "execution_count": 31,
   "id": "405c408c",
   "metadata": {},
   "outputs": [
    {
     "name": "stdout",
     "output_type": "stream",
     "text": [
      "training features = (3723, 59)\n",
      "testing features = (3723,)\n",
      "training labels= (931, 59)\n",
      "testing labels = (931,)\n"
     ]
    }
   ],
   "source": [
    "X_train, X_test,y_train, y_test = train_test_split(X,y, test_size=0.20,random_state=9)\n",
    "print('training features =',X_train.shape)\n",
    "print('testing features =',y_train.shape)\n",
    "print('training labels=',X_test.shape)\n",
    "print('testing labels =',y_test.shape)"
   ]
  },
  {
   "cell_type": "markdown",
   "id": "8854e08d",
   "metadata": {},
   "source": [
    "# Random Forest (RF) Classifier"
   ]
  },
  {
   "cell_type": "code",
   "execution_count": 36,
   "id": "f0a01efe",
   "metadata": {},
   "outputs": [
    {
     "name": "stdout",
     "output_type": "stream",
     "text": [
      "              precision    recall  f1-score   support\n",
      "\n",
      "           0       0.90      0.93      0.91       475\n",
      "           1       0.92      0.89      0.91       456\n",
      "\n",
      "    accuracy                           0.91       931\n",
      "   macro avg       0.91      0.91      0.91       931\n",
      "weighted avg       0.91      0.91      0.91       931\n",
      "\n",
      "0.9087003222341569\n",
      "[[441  34]\n",
      " [ 51 405]]\n"
     ]
    }
   ],
   "source": [
    "from sklearn.ensemble import RandomForestClassifier\n",
    "Rfc = RandomForestClassifier(n_estimators=100)       \n",
    "Rfc.fit(X_train, y_train)\n",
    "prediction = Rfc.predict(X_test)\n",
    "from sklearn.metrics import classification_report, accuracy_score, confusion_matrix\n",
    "print(classification_report(y_test, prediction))\n",
    "print(accuracy_score(y_test, prediction))\n",
    "print(confusion_matrix(y_test, prediction))"
   ]
  },
  {
   "cell_type": "code",
   "execution_count": 37,
   "id": "663a35e0",
   "metadata": {},
   "outputs": [
    {
     "data": {
      "image/png": "[encoded data removed]",
      "text/plain": [
       "<Figure size 432x288 with 2 Axes>"
      ]
     },
     "metadata": {
      "needs_background": "light"
     },
     "output_type": "display_data"
    }
   ],
   "source": [
    "import matplotlib.pyplot as plt\n",
    "from sklearn.datasets import make_classification\n",
    "from sklearn.metrics import confusion_matrix, ConfusionMatrixDisplay\n",
    "\n",
    "\n",
    "predictions = model.predict(X_test)\n",
    "cm = confusion_matrix(y_test, predictions, labels=model.classes_)\n",
    "disp = ConfusionMatrixDisplay(confusion_matrix=cm,\n",
    "                             display_labels=model.classes_)\n",
    "disp.plot()\n",
    "\n",
    "plt.show()"
   ]
  },
  {
   "cell_type": "markdown",
   "id": "c15dc376",
   "metadata": {},
   "source": [
    "# Support Vector Machine (SVM) Classifier"
   ]
  },
  {
   "cell_type": "code",
   "execution_count": 38,
   "id": "f1fc9e15",
   "metadata": {},
   "outputs": [
    {
     "name": "stdout",
     "output_type": "stream",
     "text": [
      "              precision    recall  f1-score   support\n",
      "\n",
      "           0       0.84      0.83      0.84       475\n",
      "           1       0.83      0.84      0.83       456\n",
      "\n",
      "    accuracy                           0.83       931\n",
      "   macro avg       0.83      0.83      0.83       931\n",
      "weighted avg       0.83      0.83      0.83       931\n",
      "\n",
      "0.8335123523093448\n",
      "[[395  80]\n",
      " [ 75 381]]\n"
     ]
    }
   ],
   "source": [
    "from sklearn.svm import SVC\n",
    "from sklearn import svm\n",
    "# model = svm.LinearSVC(multi_class=\"ovr\")\n",
    "Svm = svm.SVC()\n",
    "Svm.fit(X_train, y_train)\n",
    "prediction = Svm.predict(X_test)\n",
    "from sklearn.metrics import classification_report, accuracy_score, confusion_matrix\n",
    "print(classification_report(y_test, prediction))\n",
    "print(accuracy_score(y_test, prediction))\n",
    "print(confusion_matrix(y_test, prediction))"
   ]
  },
  {
   "cell_type": "markdown",
   "id": "a49d698d",
   "metadata": {},
   "source": [
    "# Decision Tree (DT) Classifier"
   ]
  },
  {
   "cell_type": "code",
   "execution_count": 40,
   "id": "af83cb3f",
   "metadata": {},
   "outputs": [
    {
     "name": "stdout",
     "output_type": "stream",
     "text": [
      "              precision    recall  f1-score   support\n",
      "\n",
      "           0       0.83      0.79      0.81       475\n",
      "           1       0.79      0.83      0.81       456\n",
      "\n",
      "    accuracy                           0.81       931\n",
      "   macro avg       0.81      0.81      0.81       931\n",
      "weighted avg       0.81      0.81      0.81       931\n",
      "\n",
      "0.8098818474758325\n",
      "[[375 100]\n",
      " [ 77 379]]\n"
     ]
    }
   ],
   "source": [
    "from sklearn.tree import DecisionTreeClassifier\n",
    "DT = DecisionTreeClassifier()\n",
    "DT.fit(X_train, y_train)\n",
    "prediction = DT.predict(X_test)\n",
    "from sklearn.metrics import classification_report, accuracy_score, confusion_matrix\n",
    "print(classification_report(y_test, prediction))\n",
    "print(accuracy_score(y_test, prediction))\n",
    "print(confusion_matrix(y_test, prediction))"
   ]
  },
  {
   "cell_type": "markdown",
   "id": "2342cbd4",
   "metadata": {},
   "source": [
    "# Gradient Boosting  (GB) Classifier"
   ]
  },
  {
   "cell_type": "code",
   "execution_count": 41,
   "id": "ebfb9cf4",
   "metadata": {},
   "outputs": [
    {
     "name": "stdout",
     "output_type": "stream",
     "text": [
      "              precision    recall  f1-score   support\n",
      "\n",
      "           0       0.86      0.92      0.89       475\n",
      "           1       0.91      0.84      0.87       456\n",
      "\n",
      "    accuracy                           0.88       931\n",
      "   macro avg       0.88      0.88      0.88       931\n",
      "weighted avg       0.88      0.88      0.88       931\n",
      "\n",
      "0.8796992481203008\n",
      "[[435  40]\n",
      " [ 72 384]]\n"
     ]
    }
   ],
   "source": [
    "from sklearn.ensemble import GradientBoostingClassifier\n",
    "GB = GradientBoostingClassifier(random_state=101)\n",
    "GB.fit(X_train, y_train)\n",
    "prediction = GB.predict(X_test)\n",
    "from sklearn.metrics import classification_report, accuracy_score, confusion_matrix\n",
    "print(classification_report(y_test, prediction))\n",
    "print(accuracy_score(y_test, prediction))\n",
    "print(confusion_matrix(y_test, prediction))"
   ]
  },
  {
   "cell_type": "markdown",
   "id": "94f3fb5d",
   "metadata": {},
   "source": [
    "# K nearest Neighbor (KNN) Classifier"
   ]
  },
  {
   "cell_type": "code",
   "execution_count": 43,
   "id": "1de670b4",
   "metadata": {},
   "outputs": [
    {
     "name": "stdout",
     "output_type": "stream",
     "text": [
      "              precision    recall  f1-score   support\n",
      "\n",
      "           0       0.89      0.83      0.86       475\n",
      "           1       0.84      0.89      0.86       456\n",
      "\n",
      "    accuracy                           0.86       931\n",
      "   macro avg       0.86      0.86      0.86       931\n",
      "weighted avg       0.86      0.86      0.86       931\n",
      "\n",
      "0.8592910848549946\n",
      "[[395  80]\n",
      " [ 51 405]]\n"
     ]
    }
   ],
   "source": [
    "from sklearn.neighbors import KNeighborsClassifier\n",
    "KNN = KNeighborsClassifier(n_neighbors=2)\n",
    "KNN .fit(X_train, y_train)\n",
    "prediction = KNN .predict(X_test)\n",
    "from sklearn.metrics import classification_report, accuracy_score, confusion_matrix\n",
    "print(classification_report(y_test, prediction))\n",
    "print(accuracy_score(y_test, prediction))\n",
    "print(confusion_matrix(y_test, prediction))"
   ]
  },
  {
   "cell_type": "markdown",
   "id": "d6f359a7",
   "metadata": {},
   "source": [
    "# EXtreme Gradient Boosting (XGB) Classifier"
   ]
  },
  {
   "cell_type": "code",
   "execution_count": 84,
   "id": "16641022",
   "metadata": {},
   "outputs": [],
   "source": [
    "# !pip install xgboost"
   ]
  },
  {
   "cell_type": "code",
   "execution_count": 44,
   "id": "d76d622b",
   "metadata": {},
   "outputs": [
    {
     "name": "stdout",
     "output_type": "stream",
     "text": [
      "              precision    recall  f1-score   support\n",
      "\n",
      "           0       0.87      0.94      0.90       475\n",
      "           1       0.93      0.85      0.89       456\n",
      "\n",
      "    accuracy                           0.90       931\n",
      "   macro avg       0.90      0.90      0.90       931\n",
      "weighted avg       0.90      0.90      0.90       931\n",
      "\n",
      "0.8968850698174007\n",
      "[[446  29]\n",
      " [ 67 389]]\n"
     ]
    }
   ],
   "source": [
    "from xgboost import XGBClassifier\n",
    "XGB = XGBClassifier()\n",
    "XGB.fit(X_train, y_train)\n",
    "prediction = XGB.predict(X_test)\n",
    "from sklearn.metrics import classification_report, accuracy_score, confusion_matrix\n",
    "print(classification_report(y_test, prediction))\n",
    "print(accuracy_score(y_test, prediction))\n",
    "print(confusion_matrix(y_test, prediction))"
   ]
  },
  {
   "cell_type": "markdown",
   "id": "ab510f81",
   "metadata": {},
   "source": [
    "# Multi Layer Perceptron (MLP) Classifier"
   ]
  },
  {
   "cell_type": "code",
   "execution_count": 45,
   "id": "be0fa17f",
   "metadata": {},
   "outputs": [
    {
     "name": "stdout",
     "output_type": "stream",
     "text": [
      "              precision    recall  f1-score   support\n",
      "\n",
      "           0       0.88      0.84      0.86       475\n",
      "           1       0.84      0.89      0.86       456\n",
      "\n",
      "    accuracy                           0.86       931\n",
      "   macro avg       0.86      0.86      0.86       931\n",
      "weighted avg       0.86      0.86      0.86       931\n",
      "\n",
      "0.8635875402792696\n",
      "[[400  75]\n",
      " [ 52 404]]\n"
     ]
    }
   ],
   "source": [
    "from sklearn.neural_network import MLPClassifier\n",
    "MLP = MLPClassifier(max_iter=1500,activation='relu', learning_rate_init=0.001,shuffle=True,\n",
    "                    learning_rate='constant', beta_1=0.999, beta_2=0.9 , momentum=0.88,\n",
    "                    power_t=0.9, solver='lbfgs', alpha=1e-6, random_state=101)\n",
    "MLP.fit(X_train, y_train)\n",
    "prediction = MLP.predict(X_test)\n",
    "from sklearn.metrics import classification_report, accuracy_score, confusion_matrix\n",
    "print(classification_report(y_test, prediction))\n",
    "print(accuracy_score(y_test, prediction))\n",
    "print(confusion_matrix(y_test, prediction))"
   ]
  },
  {
   "cell_type": "markdown",
   "id": "0653be31",
   "metadata": {},
   "source": [
    "### ANN Model"
   ]
  },
  {
   "cell_type": "code",
   "execution_count": 47,
   "id": "589eb24b",
   "metadata": {},
   "outputs": [],
   "source": [
    "import tensorflow as tf\n",
    "from tensorflow import keras\n",
    "from tensorflow_addons import losses\n",
    "from sklearn.metrics import confusion_matrix , classification_report\n",
    "from keras.models import Sequential\n",
    "from keras.layers import Activation, Dense\n"
   ]
  },
  {
   "cell_type": "code",
   "execution_count": 49,
   "id": "64e2b654",
   "metadata": {},
   "outputs": [
    {
     "name": "stdout",
     "output_type": "stream",
     "text": [
      "training features = (3723, 59)\n",
      "testing features = (3723,)\n",
      "training labels= (931, 59)\n",
      "testing labels = (931,)\n"
     ]
    }
   ],
   "source": [
    "print('training features =',X_train.shape)\n",
    "print('testing features =',y_train.shape)\n",
    "print('training labels=',X_test.shape)\n",
    "print('testing labels =',y_test.shape)"
   ]
  },
  {
   "cell_type": "code",
   "execution_count": 55,
   "id": "c2120f09",
   "metadata": {},
   "outputs": [
    {
     "name": "stdout",
     "output_type": "stream",
     "text": [
      "Epoch 1/150\n",
      "117/117 [==============================] - 1s 2ms/step - loss: 0.6314 - accuracy: 0.6387\n",
      "Epoch 2/150\n",
      "117/117 [==============================] - 0s 2ms/step - loss: 0.5602 - accuracy: 0.7088\n",
      "Epoch 3/150\n",
      "117/117 [==============================] - 0s 2ms/step - loss: 0.5387 - accuracy: 0.7271\n",
      "Epoch 4/150\n",
      "117/117 [==============================] - 0s 2ms/step - loss: 0.5206 - accuracy: 0.7427\n",
      "Epoch 5/150\n",
      "117/117 [==============================] - 0s 1ms/step - loss: 0.4940 - accuracy: 0.7615\n",
      "Epoch 6/150\n",
      "117/117 [==============================] - 0s 1ms/step - loss: 0.4703 - accuracy: 0.7690\n",
      "Epoch 7/150\n",
      "117/117 [==============================] - 0s 2ms/step - loss: 0.4584 - accuracy: 0.7830\n",
      "Epoch 8/150\n",
      "117/117 [==============================] - 0s 1ms/step - loss: 0.4339 - accuracy: 0.7926\n",
      "Epoch 9/150\n",
      "117/117 [==============================] - 0s 2ms/step - loss: 0.4295 - accuracy: 0.7972\n",
      "Epoch 10/150\n",
      "117/117 [==============================] - 0s 1ms/step - loss: 0.4139 - accuracy: 0.8047\n",
      "Epoch 11/150\n",
      "117/117 [==============================] - 0s 2ms/step - loss: 0.3881 - accuracy: 0.8203\n",
      "Epoch 12/150\n",
      "117/117 [==============================] - 0s 1ms/step - loss: 0.3787 - accuracy: 0.8257\n",
      "Epoch 13/150\n",
      "117/117 [==============================] - 0s 2ms/step - loss: 0.3667 - accuracy: 0.8340\n",
      "Epoch 14/150\n",
      "117/117 [==============================] - 0s 2ms/step - loss: 0.3696 - accuracy: 0.8302\n",
      "Epoch 15/150\n",
      "117/117 [==============================] - 0s 2ms/step - loss: 0.3518 - accuracy: 0.8450\n",
      "Epoch 16/150\n",
      "117/117 [==============================] - 0s 2ms/step - loss: 0.3423 - accuracy: 0.8512\n",
      "Epoch 17/150\n",
      "117/117 [==============================] - 0s 2ms/step - loss: 0.3394 - accuracy: 0.8482\n",
      "Epoch 18/150\n",
      "117/117 [==============================] - 0s 1ms/step - loss: 0.3264 - accuracy: 0.8496\n",
      "Epoch 19/150\n",
      "117/117 [==============================] - 0s 2ms/step - loss: 0.3215 - accuracy: 0.8576\n",
      "Epoch 20/150\n",
      "117/117 [==============================] - 0s 2ms/step - loss: 0.3146 - accuracy: 0.8646\n",
      "Epoch 21/150\n",
      "117/117 [==============================] - 0s 2ms/step - loss: 0.3097 - accuracy: 0.8657\n",
      "Epoch 22/150\n",
      "117/117 [==============================] - 0s 2ms/step - loss: 0.3009 - accuracy: 0.8695\n",
      "Epoch 23/150\n",
      "117/117 [==============================] - 0s 2ms/step - loss: 0.2934 - accuracy: 0.8711\n",
      "Epoch 24/150\n",
      "117/117 [==============================] - 0s 2ms/step - loss: 0.2957 - accuracy: 0.8705\n",
      "Epoch 25/150\n",
      "117/117 [==============================] - 0s 2ms/step - loss: 0.2832 - accuracy: 0.8770\n",
      "Epoch 26/150\n",
      "117/117 [==============================] - 0s 2ms/step - loss: 0.2795 - accuracy: 0.8826\n",
      "Epoch 27/150\n",
      "117/117 [==============================] - 0s 2ms/step - loss: 0.2825 - accuracy: 0.8786\n",
      "Epoch 28/150\n",
      "117/117 [==============================] - 0s 2ms/step - loss: 0.2861 - accuracy: 0.8746\n",
      "Epoch 29/150\n",
      "117/117 [==============================] - 0s 1ms/step - loss: 0.2705 - accuracy: 0.8826\n",
      "Epoch 30/150\n",
      "117/117 [==============================] - 0s 2ms/step - loss: 0.2678 - accuracy: 0.8842\n",
      "Epoch 31/150\n",
      "117/117 [==============================] - 0s 2ms/step - loss: 0.2520 - accuracy: 0.8966\n",
      "Epoch 32/150\n",
      "117/117 [==============================] - 0s 2ms/step - loss: 0.2587 - accuracy: 0.8907\n",
      "Epoch 33/150\n",
      "117/117 [==============================] - 0s 2ms/step - loss: 0.2559 - accuracy: 0.8904\n",
      "Epoch 34/150\n",
      "117/117 [==============================] - 0s 2ms/step - loss: 0.2515 - accuracy: 0.8987\n",
      "Epoch 35/150\n",
      "117/117 [==============================] - 0s 2ms/step - loss: 0.2386 - accuracy: 0.9014\n",
      "Epoch 36/150\n",
      "117/117 [==============================] - 0s 2ms/step - loss: 0.2439 - accuracy: 0.8990\n",
      "Epoch 37/150\n",
      "117/117 [==============================] - 0s 2ms/step - loss: 0.2370 - accuracy: 0.9012\n",
      "Epoch 38/150\n",
      "117/117 [==============================] - 0s 2ms/step - loss: 0.2337 - accuracy: 0.9044\n",
      "Epoch 39/150\n",
      "117/117 [==============================] - 0s 1ms/step - loss: 0.2361 - accuracy: 0.9012\n",
      "Epoch 40/150\n",
      "117/117 [==============================] - 0s 2ms/step - loss: 0.2286 - accuracy: 0.9041\n",
      "Epoch 41/150\n",
      "117/117 [==============================] - 0s 2ms/step - loss: 0.2171 - accuracy: 0.9127\n",
      "Epoch 42/150\n",
      "117/117 [==============================] - 0s 2ms/step - loss: 0.2230 - accuracy: 0.9114\n",
      "Epoch 43/150\n",
      "117/117 [==============================] - 0s 2ms/step - loss: 0.2131 - accuracy: 0.9124\n",
      "Epoch 44/150\n",
      "117/117 [==============================] - 0s 2ms/step - loss: 0.2078 - accuracy: 0.9165\n",
      "Epoch 45/150\n",
      "117/117 [==============================] - 0s 2ms/step - loss: 0.2121 - accuracy: 0.9124\n",
      "Epoch 46/150\n",
      "117/117 [==============================] - 0s 2ms/step - loss: 0.2105 - accuracy: 0.9157\n",
      "Epoch 47/150\n",
      "117/117 [==============================] - 0s 2ms/step - loss: 0.2020 - accuracy: 0.9186\n",
      "Epoch 48/150\n",
      "117/117 [==============================] - 0s 2ms/step - loss: 0.2009 - accuracy: 0.9200\n",
      "Epoch 49/150\n",
      "117/117 [==============================] - 0s 2ms/step - loss: 0.1896 - accuracy: 0.9248\n",
      "Epoch 50/150\n",
      "117/117 [==============================] - 0s 2ms/step - loss: 0.1892 - accuracy: 0.9248\n",
      "Epoch 51/150\n",
      "117/117 [==============================] - 0s 2ms/step - loss: 0.1863 - accuracy: 0.9283\n",
      "Epoch 52/150\n",
      "117/117 [==============================] - 0s 2ms/step - loss: 0.1822 - accuracy: 0.9299\n",
      "Epoch 53/150\n",
      "117/117 [==============================] - 0s 2ms/step - loss: 0.1871 - accuracy: 0.9221\n",
      "Epoch 54/150\n",
      "117/117 [==============================] - 0s 1ms/step - loss: 0.1828 - accuracy: 0.9216\n",
      "Epoch 55/150\n",
      "117/117 [==============================] - 0s 1ms/step - loss: 0.1815 - accuracy: 0.9307\n",
      "Epoch 56/150\n",
      "117/117 [==============================] - 0s 1ms/step - loss: 0.1804 - accuracy: 0.9283\n",
      "Epoch 57/150\n",
      "117/117 [==============================] - 0s 1ms/step - loss: 0.1685 - accuracy: 0.9318\n",
      "Epoch 58/150\n",
      "117/117 [==============================] - 0s 1ms/step - loss: 0.1852 - accuracy: 0.9221\n",
      "Epoch 59/150\n",
      "117/117 [==============================] - 0s 2ms/step - loss: 0.1781 - accuracy: 0.9251\n",
      "Epoch 60/150\n",
      "117/117 [==============================] - 0s 1ms/step - loss: 0.1876 - accuracy: 0.9237\n",
      "Epoch 61/150\n",
      "117/117 [==============================] - 0s 1ms/step - loss: 0.1684 - accuracy: 0.9347\n",
      "Epoch 62/150\n",
      "117/117 [==============================] - 0s 2ms/step - loss: 0.1493 - accuracy: 0.9460\n",
      "Epoch 63/150\n",
      "117/117 [==============================] - 0s 1ms/step - loss: 0.1728 - accuracy: 0.9345\n",
      "Epoch 64/150\n",
      "117/117 [==============================] - 0s 1ms/step - loss: 0.1510 - accuracy: 0.9439\n",
      "Epoch 65/150\n",
      "117/117 [==============================] - 0s 2ms/step - loss: 0.1458 - accuracy: 0.9452\n",
      "Epoch 66/150\n",
      "117/117 [==============================] - 0s 2ms/step - loss: 0.1475 - accuracy: 0.9465\n",
      "Epoch 67/150\n",
      "117/117 [==============================] - 0s 1ms/step - loss: 0.1466 - accuracy: 0.9441\n",
      "Epoch 68/150\n",
      "117/117 [==============================] - 0s 1ms/step - loss: 0.1625 - accuracy: 0.9369\n",
      "Epoch 69/150\n",
      "117/117 [==============================] - 0s 2ms/step - loss: 0.1583 - accuracy: 0.9374\n",
      "Epoch 70/150\n",
      "117/117 [==============================] - 0s 2ms/step - loss: 0.1360 - accuracy: 0.9514\n",
      "Epoch 71/150\n",
      "117/117 [==============================] - 0s 1ms/step - loss: 0.1391 - accuracy: 0.9455\n",
      "Epoch 72/150\n",
      "117/117 [==============================] - 0s 1ms/step - loss: 0.1452 - accuracy: 0.9436\n",
      "Epoch 73/150\n",
      "117/117 [==============================] - 0s 1ms/step - loss: 0.1370 - accuracy: 0.9492\n",
      "Epoch 74/150\n",
      "117/117 [==============================] - 0s 1ms/step - loss: 0.1363 - accuracy: 0.9479\n",
      "Epoch 75/150\n",
      "117/117 [==============================] - 0s 1ms/step - loss: 0.1246 - accuracy: 0.9562\n",
      "Epoch 76/150\n",
      "117/117 [==============================] - 0s 2ms/step - loss: 0.1319 - accuracy: 0.9500\n",
      "Epoch 77/150\n",
      "117/117 [==============================] - 0s 1ms/step - loss: 0.1402 - accuracy: 0.9457\n",
      "Epoch 78/150\n",
      "117/117 [==============================] - 0s 2ms/step - loss: 0.1567 - accuracy: 0.9417\n",
      "Epoch 79/150\n",
      "117/117 [==============================] - 0s 2ms/step - loss: 0.1315 - accuracy: 0.9535\n",
      "Epoch 80/150\n",
      "117/117 [==============================] - 0s 2ms/step - loss: 0.1186 - accuracy: 0.9589\n",
      "Epoch 81/150\n"
     ]
    },
    {
     "name": "stdout",
     "output_type": "stream",
     "text": [
      "117/117 [==============================] - 0s 1ms/step - loss: 0.1180 - accuracy: 0.9578\n",
      "Epoch 82/150\n",
      "117/117 [==============================] - 0s 1ms/step - loss: 0.1311 - accuracy: 0.9514\n",
      "Epoch 83/150\n",
      "117/117 [==============================] - 0s 1ms/step - loss: 0.1079 - accuracy: 0.9621\n",
      "Epoch 84/150\n",
      "117/117 [==============================] - 0s 1ms/step - loss: 0.1189 - accuracy: 0.9584\n",
      "Epoch 85/150\n",
      "117/117 [==============================] - 0s 1ms/step - loss: 0.1098 - accuracy: 0.9627\n",
      "Epoch 86/150\n",
      "117/117 [==============================] - 0s 1ms/step - loss: 0.1124 - accuracy: 0.9602\n",
      "Epoch 87/150\n",
      "117/117 [==============================] - 0s 1ms/step - loss: 0.1192 - accuracy: 0.9533\n",
      "Epoch 88/150\n",
      "117/117 [==============================] - 0s 1ms/step - loss: 0.1084 - accuracy: 0.9627\n",
      "Epoch 89/150\n",
      "117/117 [==============================] - 0s 2ms/step - loss: 0.1037 - accuracy: 0.9629\n",
      "Epoch 90/150\n",
      "117/117 [==============================] - 0s 1ms/step - loss: 0.1164 - accuracy: 0.9594\n",
      "Epoch 91/150\n",
      "117/117 [==============================] - 0s 1ms/step - loss: 0.1077 - accuracy: 0.9624\n",
      "Epoch 92/150\n",
      "117/117 [==============================] - 0s 1ms/step - loss: 0.1091 - accuracy: 0.9589\n",
      "Epoch 93/150\n",
      "117/117 [==============================] - 0s 1ms/step - loss: 0.1080 - accuracy: 0.9576\n",
      "Epoch 94/150\n",
      "117/117 [==============================] - 0s 1ms/step - loss: 0.1075 - accuracy: 0.9632\n",
      "Epoch 95/150\n",
      "117/117 [==============================] - 0s 2ms/step - loss: 0.0983 - accuracy: 0.9648\n",
      "Epoch 96/150\n",
      "117/117 [==============================] - 0s 1ms/step - loss: 0.0880 - accuracy: 0.9715\n",
      "Epoch 97/150\n",
      "117/117 [==============================] - 0s 2ms/step - loss: 0.0946 - accuracy: 0.9643\n",
      "Epoch 98/150\n",
      "117/117 [==============================] - 0s 1ms/step - loss: 0.0946 - accuracy: 0.9656\n",
      "Epoch 99/150\n",
      "117/117 [==============================] - 0s 1ms/step - loss: 0.0913 - accuracy: 0.9670\n",
      "Epoch 100/150\n",
      "117/117 [==============================] - 0s 1ms/step - loss: 0.0950 - accuracy: 0.9664\n",
      "Epoch 101/150\n",
      "117/117 [==============================] - 0s 1ms/step - loss: 0.1393 - accuracy: 0.9414\n",
      "Epoch 102/150\n",
      "117/117 [==============================] - 0s 1ms/step - loss: 0.1008 - accuracy: 0.9629\n",
      "Epoch 103/150\n",
      "117/117 [==============================] - 0s 1ms/step - loss: 0.0902 - accuracy: 0.9678\n",
      "Epoch 104/150\n",
      "117/117 [==============================] - 0s 2ms/step - loss: 0.0908 - accuracy: 0.9680\n",
      "Epoch 105/150\n",
      "117/117 [==============================] - 0s 1ms/step - loss: 0.0873 - accuracy: 0.9691\n",
      "Epoch 106/150\n",
      "117/117 [==============================] - 0s 2ms/step - loss: 0.0793 - accuracy: 0.9739\n",
      "Epoch 107/150\n",
      "117/117 [==============================] - 0s 1ms/step - loss: 0.0849 - accuracy: 0.9691\n",
      "Epoch 108/150\n",
      "117/117 [==============================] - 0s 1ms/step - loss: 0.0865 - accuracy: 0.9688\n",
      "Epoch 109/150\n",
      "117/117 [==============================] - 0s 1ms/step - loss: 0.0765 - accuracy: 0.9742\n",
      "Epoch 110/150\n",
      "117/117 [==============================] - 0s 1ms/step - loss: 0.0851 - accuracy: 0.9696\n",
      "Epoch 111/150\n",
      "117/117 [==============================] - 0s 1ms/step - loss: 0.0925 - accuracy: 0.9659\n",
      "Epoch 112/150\n",
      "117/117 [==============================] - 0s 2ms/step - loss: 0.0811 - accuracy: 0.9726\n",
      "Epoch 113/150\n",
      "117/117 [==============================] - 0s 2ms/step - loss: 0.0755 - accuracy: 0.9761\n",
      "Epoch 114/150\n",
      "117/117 [==============================] - 0s 1ms/step - loss: 0.0687 - accuracy: 0.9764\n",
      "Epoch 115/150\n",
      "117/117 [==============================] - 0s 1ms/step - loss: 0.0754 - accuracy: 0.9737\n",
      "Epoch 116/150\n",
      "117/117 [==============================] - 0s 1ms/step - loss: 0.0971 - accuracy: 0.9621\n",
      "Epoch 117/150\n",
      "117/117 [==============================] - 0s 1ms/step - loss: 0.0730 - accuracy: 0.9761\n",
      "Epoch 118/150\n",
      "117/117 [==============================] - 0s 2ms/step - loss: 0.0846 - accuracy: 0.9702\n",
      "Epoch 119/150\n",
      "117/117 [==============================] - 0s 1ms/step - loss: 0.0965 - accuracy: 0.9645\n",
      "Epoch 120/150\n",
      "117/117 [==============================] - 0s 2ms/step - loss: 0.0874 - accuracy: 0.9654\n",
      "Epoch 121/150\n",
      "117/117 [==============================] - 0s 2ms/step - loss: 0.0656 - accuracy: 0.9782\n",
      "Epoch 122/150\n",
      "117/117 [==============================] - 0s 2ms/step - loss: 0.0659 - accuracy: 0.9780\n",
      "Epoch 123/150\n",
      "117/117 [==============================] - 0s 2ms/step - loss: 0.0671 - accuracy: 0.9780\n",
      "Epoch 124/150\n",
      "117/117 [==============================] - 0s 2ms/step - loss: 0.0692 - accuracy: 0.9758\n",
      "Epoch 125/150\n",
      "117/117 [==============================] - 0s 2ms/step - loss: 0.0816 - accuracy: 0.9723\n",
      "Epoch 126/150\n",
      "117/117 [==============================] - 0s 1ms/step - loss: 0.0664 - accuracy: 0.9790\n",
      "Epoch 127/150\n",
      "117/117 [==============================] - 0s 2ms/step - loss: 0.0886 - accuracy: 0.9659\n",
      "Epoch 128/150\n",
      "117/117 [==============================] - 0s 2ms/step - loss: 0.0910 - accuracy: 0.9678\n",
      "Epoch 129/150\n",
      "117/117 [==============================] - 0s 2ms/step - loss: 0.0688 - accuracy: 0.9761\n",
      "Epoch 130/150\n",
      "117/117 [==============================] - 0s 2ms/step - loss: 0.0721 - accuracy: 0.9742\n",
      "Epoch 131/150\n",
      "117/117 [==============================] - 0s 1ms/step - loss: 0.0584 - accuracy: 0.9823\n",
      "Epoch 132/150\n",
      "117/117 [==============================] - 0s 1ms/step - loss: 0.1055 - accuracy: 0.9619\n",
      "Epoch 133/150\n",
      "117/117 [==============================] - 0s 2ms/step - loss: 0.0618 - accuracy: 0.9799\n",
      "Epoch 134/150\n",
      "117/117 [==============================] - 0s 2ms/step - loss: 0.0592 - accuracy: 0.9796\n",
      "Epoch 135/150\n",
      "117/117 [==============================] - 0s 2ms/step - loss: 0.0615 - accuracy: 0.9769\n",
      "Epoch 136/150\n",
      "117/117 [==============================] - 0s 1ms/step - loss: 0.0590 - accuracy: 0.9790\n",
      "Epoch 137/150\n",
      "117/117 [==============================] - 0s 1ms/step - loss: 0.0606 - accuracy: 0.9780\n",
      "Epoch 138/150\n",
      "117/117 [==============================] - 0s 1ms/step - loss: 0.0525 - accuracy: 0.9820\n",
      "Epoch 139/150\n",
      "117/117 [==============================] - 0s 2ms/step - loss: 0.0511 - accuracy: 0.9807\n",
      "Epoch 140/150\n",
      "117/117 [==============================] - 0s 1ms/step - loss: 0.0507 - accuracy: 0.9847\n",
      "Epoch 141/150\n",
      "117/117 [==============================] - 0s 2ms/step - loss: 0.0517 - accuracy: 0.9842\n",
      "Epoch 142/150\n",
      "117/117 [==============================] - 0s 1ms/step - loss: 0.0648 - accuracy: 0.9758\n",
      "Epoch 143/150\n",
      "117/117 [==============================] - 0s 1ms/step - loss: 0.0553 - accuracy: 0.9815\n",
      "Epoch 144/150\n",
      "117/117 [==============================] - 0s 1ms/step - loss: 0.0621 - accuracy: 0.9790\n",
      "Epoch 145/150\n",
      "117/117 [==============================] - 0s 2ms/step - loss: 0.0479 - accuracy: 0.9850\n",
      "Epoch 146/150\n",
      "117/117 [==============================] - 0s 2ms/step - loss: 0.0885 - accuracy: 0.9664\n",
      "Epoch 147/150\n",
      "117/117 [==============================] - 0s 1ms/step - loss: 0.0507 - accuracy: 0.9842\n",
      "Epoch 148/150\n",
      "117/117 [==============================] - 0s 1ms/step - loss: 0.0556 - accuracy: 0.9793\n",
      "Epoch 149/150\n",
      "117/117 [==============================] - 0s 1ms/step - loss: 0.0458 - accuracy: 0.9863\n",
      "Epoch 150/150\n",
      "117/117 [==============================] - 0s 1ms/step - loss: 0.0551 - accuracy: 0.9817\n"
     ]
    },
    {
     "data": {
      "text/plain": [
       "<keras.callbacks.History at 0x1e803338160>"
      ]
     },
     "execution_count": 55,
     "metadata": {},
     "output_type": "execute_result"
    }
   ],
   "source": [
    "ANN = keras.Sequential([\n",
    "        keras.layers.Dense(59, input_dim=59, activation='relu'),\n",
    "        keras.layers.Dense(32, activation='relu'),\n",
    "        keras.layers.Dense(16, activation='relu'),\n",
    "        keras.layers.Dense(1, activation='sigmoid')\n",
    "    ])\n",
    "\n",
    "ANN.compile(optimizer='adam', loss='binary_crossentropy', metrics=['accuracy'])\n",
    "\n",
    "ANN.fit(X_train, y_train, epochs=150)"
   ]
  },
  {
   "cell_type": "code",
   "execution_count": 56,
   "id": "beba71fc",
   "metadata": {},
   "outputs": [
    {
     "name": "stdout",
     "output_type": "stream",
     "text": [
      "117/117 [==============================] - 0s 1ms/step - loss: 0.0377 - accuracy: 0.9890\n",
      "[0.0376647524535656, 0.988987386226654]\n"
     ]
    }
   ],
   "source": [
    "print(ANN.evaluate(X_train, y_train))"
   ]
  },
  {
   "cell_type": "code",
   "execution_count": 59,
   "id": "f1975ad5",
   "metadata": {},
   "outputs": [
    {
     "name": "stdout",
     "output_type": "stream",
     "text": [
      "30/30 [==============================] - 0s 1ms/step\n",
      "Classification Report: \n",
      "               precision    recall  f1-score   support\n",
      "\n",
      "           0       0.90      0.82      0.86       475\n",
      "           1       0.83      0.90      0.86       456\n",
      "\n",
      "    accuracy                           0.86       931\n",
      "   macro avg       0.86      0.86      0.86       931\n",
      "weighted avg       0.86      0.86      0.86       931\n",
      "\n"
     ]
    }
   ],
   "source": [
    "y_preds = ANN.predict(X_test)\n",
    "y_preds = np.round(y_preds)\n",
    "    \n",
    "print(\"Classification Report: \\n\", classification_report(y_test, y_preds))\n",
    "    "
   ]
  },
  {
   "cell_type": "code",
   "execution_count": null,
   "id": "6a39a176",
   "metadata": {},
   "outputs": [],
   "source": []
  }
 ],
 "metadata": {
  "kernelspec": {
   "display_name": "Python 3 (ipykernel)",
   "language": "python",
   "name": "python3"
  },
  "language_info": {
   "codemirror_mode": {
    "name": "ipython",
    "version": 3
   },
   "file_extension": ".py",
   "mimetype": "text/x-python",
   "name": "python",
   "nbconvert_exporter": "python",
   "pygments_lexer": "ipython3",
   "version": "3.9.12"
  }
 },
 "nbformat": 4,
 "nbformat_minor": 5
}
